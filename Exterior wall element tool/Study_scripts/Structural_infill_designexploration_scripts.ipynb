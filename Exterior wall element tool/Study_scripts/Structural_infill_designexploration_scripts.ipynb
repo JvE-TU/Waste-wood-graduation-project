{
 "cells": [
  {
   "cell_type": "code",
   "execution_count": 16,
   "metadata": {},
   "outputs": [
    {
     "name": "stdout",
     "output_type": "stream",
     "text": [
      "total length = 44.28 meter\n"
     ]
    }
   ],
   "source": [
    "def hsb(height_wall, width_wall, ctc):\n",
    "    \n",
    "    number_studs = width_wall / ctc + 1 \n",
    "    horizontal_length = 2*width_wall\n",
    "    \n",
    "    if width_wall <= 3000: \n",
    "        bracing = (height_wall**2+width_wall**2)**0.5\n",
    "        \n",
    "    else:\n",
    "        bracing = ((height_wall**2+(width_wall/2)**2)**0.5)+((height_wall**2+(width_wall/2)**2)**0.5)\n",
    "        \n",
    "    total_length = number_studs * height_wall + horizontal_length + bracing\n",
    "    total_length = round(total_length / 1000,2)\n",
    "    print(f'total length = {total_length} meter')\n",
    "\n",
    "hsb(3000, 4800, 600)\n",
    "        \n",
    "    "
   ]
  },
  {
   "cell_type": "code",
   "execution_count": null,
   "metadata": {},
   "outputs": [],
   "source": []
  },
  {
   "cell_type": "code",
   "execution_count": 40,
   "metadata": {},
   "outputs": [
    {
     "name": "stdout",
     "output_type": "stream",
     "text": [
      "total length = 110.4 meter\n"
     ]
    }
   ],
   "source": [
    "def brickawood(height_wall, width_wall, ctc_connection, height_brick):\n",
    "    horizontal_length = height_wall / height_brick * width_wall * 2\n",
    "    vertical_length = width_wall / ctc_connection * height_wall\n",
    "    total_length = horizontal_length + vertical_length\n",
    "    total_length = round(total_length / 1000,2)\n",
    "    print(f'total length = {total_length} meter')\n",
    "    \n",
    "\n",
    "brickawood(3000, 4800, 1000, 300)\n",
    "              "
   ]
  },
  {
   "cell_type": "code",
   "execution_count": null,
   "metadata": {},
   "outputs": [],
   "source": []
  },
  {
   "cell_type": "code",
   "execution_count": 41,
   "metadata": {},
   "outputs": [
    {
     "name": "stdout",
     "output_type": "stream",
     "text": [
      "total length = 67.59 meter\n"
     ]
    }
   ],
   "source": [
    "def truss(height_wall, width_wall, web_connection_per_meter, distance_between_trusses, \n",
    "          studs_per_truss, distance_between_studs):\n",
    "    \n",
    "    number_trusses = width_wall / distance_between_trusses + 1 \n",
    "    vertical_length = number_trusses * studs_per_truss * height_wall\n",
    "    height_single_web = 1000 / web_connection_per_meter\n",
    "    length_single_web = (height_single_web**2 + distance_between_studs**2)**0.5\n",
    "\n",
    "    total_length_webs = height_wall / height_single_web * length_single_web * studs_per_truss * number_trusses\n",
    "    \n",
    "    total_length = total_length_webs + vertical_length\n",
    "    total_length = round(total_length / 1000,2)\n",
    "    print(f'total length = {total_length} meter')\n",
    "    \n",
    "truss(3000, 4800, 3, 3000, 4, 200)"
   ]
  },
  {
   "cell_type": "code",
   "execution_count": 19,
   "metadata": {},
   "outputs": [
    {
     "name": "stdout",
     "output_type": "stream",
     "text": [
      "448\n",
      "84384.0\n"
     ]
    },
    {
     "data": {
      "text/plain": [
       "84384.0"
      ]
     },
     "execution_count": 19,
     "metadata": {},
     "output_type": "execute_result"
    }
   ],
   "source": []
  },
  {
   "cell_type": "code",
   "execution_count": 27,
   "metadata": {},
   "outputs": [
    {
     "name": "stdout",
     "output_type": "stream",
     "text": [
      "total length = 62.45 meter\n"
     ]
    }
   ],
   "source": [
    "def segments(width_wall, height_wall, ctc):\n",
    "    \n",
    "    number_studs = width_wall / ctc + 1 \n",
    "    vertical_length = number_studs * height_wall\n",
    "    horizontal_length = 2*width_wall\n",
    "    bracing  = (((0.5*height_wall)**2 + ctc**2)**0.5) * (width_wall / ctc) * 2  \n",
    "\n",
    "    total_length  = vertical_length + horizontal_length + bracing\n",
    "    total_length = round(total_length / 1000,2)\n",
    "    print(f'total length = {total_length} meter')\n",
    "    \n",
    "segments(4800, 3000, 600)\n",
    "        \n"
   ]
  },
  {
   "cell_type": "code",
   "execution_count": 45,
   "metadata": {},
   "outputs": [
    {
     "name": "stdout",
     "output_type": "stream",
     "text": [
      "62448.791074245615\n"
     ]
    },
    {
     "data": {
      "text/plain": [
       "62448.791074245615"
      ]
     },
     "execution_count": 45,
     "metadata": {},
     "output_type": "execute_result"
    }
   ],
   "source": []
  },
  {
   "cell_type": "code",
   "execution_count": 1,
   "metadata": {},
   "outputs": [
    {
     "name": "stdout",
     "output_type": "stream",
     "text": [
      "total length = 52.52 meter\n"
     ]
    }
   ],
   "source": [
    "def post_beam (width_wall, height_wall, ctc, relative_height_bracing):\n",
    "    \n",
    "    amount_studs = width_wall / ctc + 1 \n",
    "    vertical_length = amount_studs * 2 * height_wall\n",
    "    horizontal_length = 2 * width_wall\n",
    "    bracing = (((relative_height_bracing * height_wall)**2 + (0.5*ctc)**2)**0.5) * 2 * (width_wall/ctc)\n",
    "    total_length = vertical_length + horizontal_length + bracing\n",
    "    total_length = round(total_length / 1000,2)\n",
    "    print(f'total length = {total_length} meter')\n",
    "    \n",
    "post_beam(4800, 3000, 1200, 0.5)\n"
   ]
  },
  {
   "cell_type": "code",
   "execution_count": 44,
   "metadata": {},
   "outputs": [
    {
     "name": "stdout",
     "output_type": "stream",
     "text": [
      "47284\n"
     ]
    },
    {
     "data": {
      "text/plain": [
       "47284"
      ]
     },
     "execution_count": 44,
     "metadata": {},
     "output_type": "execute_result"
    }
   ],
   "source": []
  },
  {
   "cell_type": "code",
   "execution_count": 4,
   "metadata": {},
   "outputs": [
    {
     "name": "stdout",
     "output_type": "stream",
     "text": [
      "total length = 43.83 meter\n"
     ]
    }
   ],
   "source": [
    "def modulair (width_wall, height_wall, width_box):\n",
    "    length_box = 2*width_box + 2*height_wall + ((width_box**2 + height_wall**2)**0.5)\n",
    "    total_length = length_box * (width_wall / width_box)\n",
    "    total_length = round(total_length / 1000,2)\n",
    "    print(f'total length = {total_length} meter')\n",
    "    \n",
    "modulair(4800, 3000, 1300)\n",
    "    "
   ]
  },
  {
   "cell_type": "code",
   "execution_count": 5,
   "metadata": {},
   "outputs": [
    {
     "name": "stdout",
     "output_type": "stream",
     "text": [
      "46524\n"
     ]
    },
    {
     "data": {
      "text/plain": [
       "46524"
      ]
     },
     "execution_count": 5,
     "metadata": {},
     "output_type": "execute_result"
    }
   ],
   "source": []
  },
  {
   "cell_type": "code",
   "execution_count": null,
   "metadata": {},
   "outputs": [],
   "source": []
  }
 ],
 "metadata": {
  "kernelspec": {
   "display_name": "Python 3",
   "language": "python",
   "name": "python3"
  },
  "language_info": {
   "codemirror_mode": {
    "name": "ipython",
    "version": 3
   },
   "file_extension": ".py",
   "mimetype": "text/x-python",
   "name": "python",
   "nbconvert_exporter": "python",
   "pygments_lexer": "ipython3",
   "version": "3.7.6"
  }
 },
 "nbformat": 4,
 "nbformat_minor": 4
}
