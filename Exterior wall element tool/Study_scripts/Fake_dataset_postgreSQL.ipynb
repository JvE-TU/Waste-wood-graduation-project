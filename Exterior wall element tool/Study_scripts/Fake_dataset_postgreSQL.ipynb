{
 "cells": [
  {
   "cell_type": "code",
   "execution_count": 45,
   "metadata": {},
   "outputs": [],
   "source": [
    "def clear_data(): \n",
    "    #deletes existing data in database\n",
    "    cur.execute(\"TRUNCATE waste_wood RESTART IDENTITY \")\n",
    "    conn.commit()\n",
    "    print('old data removed')\n"
   ]
  },
  {
   "cell_type": "code",
   "execution_count": 48,
   "metadata": {},
   "outputs": [],
   "source": [
    "#import random dimensions wood to database\n",
    "def random_rows(amount_rows):\n",
    "    import random\n",
    "    \n",
    "    strength = ['C18','C20','C22','C24','D18','D24','D30']\n",
    "    wood_types = ['Spruce','Poplar','Pine','Oak','Douglas Fir', 'Cedar'] \n",
    "    boolean = ['true', 'false']\n",
    "    \n",
    "    for i in range(0,amount_rows):\n",
    "        length = random.randint(10,4000)\n",
    "        width = random.randint(20,90)\n",
    "        depth = random.randint(60,200)\n",
    "        strength_class = random.choice(strength)\n",
    "        sustainability_class = random.randint(1,5)\n",
    "        seller_id = random.randint(1,6)\n",
    "        weight = round(((length/1000) * (width/1000) * (depth/1000)) * random.randint(500,800), 3)\n",
    "        wood_type = random.choice(wood_types)\n",
    "        structural_integrity = random.choice(boolean)\n",
    "        painted = random.choice(boolean)\n",
    "        \n",
    "        cur.execute(\"INSERT INTO waste_wood(wood_length_mm, wood_depth_mm, wood_width_mm, strength_class, sustainability_class, wood_weight_kg, wood_type, structural_integrity, painted, seller_id)\\\n",
    "        VALUES (%s,%s,%s,%s,%s,%s,%s,%s,%s,%s)\",(length, depth, width, strength_class, sustainability_class, weight, wood_type, structural_integrity, painted, seller_id));\n",
    "        conn.commit()\n",
    "        \n",
    "    print('data sent to database')\n",
    "\n",
    " \n"
   ]
  },
  {
   "cell_type": "code",
   "execution_count": 49,
   "metadata": {},
   "outputs": [
    {
     "name": "stdout",
     "output_type": "stream",
     "text": [
      "old data removed\n",
      "data sent to database\n"
     ]
    }
   ],
   "source": [
    "import psycopg2 as pg2\n",
    "conn = pg2.connect(database='waste_wood', user='postgres', password='baksteen')\n",
    "cur = conn.cursor()\n",
    "clear_data()\n",
    "random_rows(1000)\n",
    "conn.close() "
   ]
  },
  {
   "cell_type": "code",
   "execution_count": null,
   "metadata": {},
   "outputs": [],
   "source": []
  },
  {
   "cell_type": "code",
   "execution_count": null,
   "metadata": {},
   "outputs": [],
   "source": []
  },
  {
   "cell_type": "code",
   "execution_count": null,
   "metadata": {},
   "outputs": [],
   "source": []
  },
  {
   "cell_type": "code",
   "execution_count": null,
   "metadata": {},
   "outputs": [],
   "source": []
  },
  {
   "cell_type": "code",
   "execution_count": null,
   "metadata": {},
   "outputs": [],
   "source": []
  },
  {
   "cell_type": "code",
   "execution_count": null,
   "metadata": {},
   "outputs": [],
   "source": []
  },
  {
   "cell_type": "code",
   "execution_count": 3,
   "metadata": {},
   "outputs": [],
   "source": []
  },
  {
   "cell_type": "code",
   "execution_count": null,
   "metadata": {},
   "outputs": [],
   "source": []
  },
  {
   "cell_type": "code",
   "execution_count": null,
   "metadata": {},
   "outputs": [],
   "source": []
  }
 ],
 "metadata": {
  "kernelspec": {
   "display_name": "Python 3",
   "language": "python",
   "name": "python3"
  },
  "language_info": {
   "codemirror_mode": {
    "name": "ipython",
    "version": 3
   },
   "file_extension": ".py",
   "mimetype": "text/x-python",
   "name": "python",
   "nbconvert_exporter": "python",
   "pygments_lexer": "ipython3",
   "version": "3.7.6"
  }
 },
 "nbformat": 4,
 "nbformat_minor": 4
}
